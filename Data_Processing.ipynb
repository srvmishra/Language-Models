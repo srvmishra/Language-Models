{
  "cells": [
    {
      "cell_type": "markdown",
      "metadata": {
        "id": "Ecsetz0-1M4b"
      },
      "source": [
        "### Imports"
      ]
    },
    {
      "cell_type": "code",
      "execution_count": 1,
      "metadata": {
        "id": "gbiBCMr0xbQJ"
      },
      "outputs": [
        {
          "name": "stdout",
          "output_type": "stream",
          "text": [
            "tiktoken version:  0.9.0\n"
          ]
        }
      ],
      "source": [
        "import urllib.request\n",
        "import re\n",
        "from importlib.metadata import version\n",
        "\n",
        "import torch\n",
        "from torch.utils.data import Dataset, DataLoader\n",
        "\n",
        "import tiktoken\n",
        "print('tiktoken version: ', version('tiktoken'))"
      ]
    },
    {
      "cell_type": "markdown",
      "metadata": {
        "id": "davNP4RGM9UT"
      },
      "source": [
        "### Download Data\n",
        "\n",
        "The file is available at https://github.com/rasbt/LLMs-from-scratch/blob/main/ch02/01_main-chapter-code/the-verdict.txt"
      ]
    },
    {
      "cell_type": "code",
      "execution_count": 2,
      "metadata": {
        "colab": {
          "base_uri": "https://localhost:8080/"
        },
        "id": "VQCerOZcwqZv",
        "outputId": "23df3a76-f9dc-4c18-a2e9-f1958f0cb678"
      },
      "outputs": [
        {
          "name": "stdout",
          "output_type": "stream",
          "text": [
            "Total number of characters:  20479\n",
            "I HAD always thought Jack Gisburn rather a cheap genius--though a good fellow enough--so it was no \n"
          ]
        }
      ],
      "source": [
        "with open('the-verdict.txt', 'r', encoding='utf-8') as f:\n",
        "  raw_text = f.read()\n",
        "print('Total number of characters: ', len(raw_text))\n",
        "print(raw_text[:99])"
      ]
    },
    {
      "cell_type": "markdown",
      "metadata": {
        "id": "_FqQc78_NFsb"
      },
      "source": [
        "### Preprocess and create vocabulary"
      ]
    },
    {
      "cell_type": "code",
      "execution_count": 3,
      "metadata": {
        "colab": {
          "base_uri": "https://localhost:8080/"
        },
        "id": "mWSFzM5uxYjz",
        "outputId": "c372f643-e8b0-43a8-9702-fe0e97409dbe"
      },
      "outputs": [
        {
          "name": "stdout",
          "output_type": "stream",
          "text": [
            "4690\n",
            "['I', 'HAD', 'always', 'thought', 'Jack', 'Gisburn', 'rather', 'a', 'cheap', 'genius', '--', 'though', 'a', 'good', 'fellow', 'enough', '--', 'so', 'it', 'was', 'no', 'great', 'surprise', 'to', 'me', 'to', 'hear', 'that', ',', 'in']\n",
            "1130\n"
          ]
        }
      ],
      "source": [
        "preprocessed = re.split(r'([,.:;?_!\"()\\']|--|\\s)', raw_text)\n",
        "preprocessed = [item.strip() for item in preprocessed if item.strip()]\n",
        "print(len(preprocessed))\n",
        "print(preprocessed[:30])\n",
        "all_words = set(preprocessed)\n",
        "vocab_size = len(all_words)\n",
        "print(vocab_size)"
      ]
    },
    {
      "cell_type": "code",
      "execution_count": 4,
      "metadata": {
        "colab": {
          "base_uri": "https://localhost:8080/"
        },
        "id": "z5jYkTAUw-oa",
        "outputId": "72325a4b-5263-440c-e1ae-c85ef92df551"
      },
      "outputs": [
        {
          "name": "stdout",
          "output_type": "stream",
          "text": [
            "('strain', 0)\n",
            "('Be', 1)\n",
            "('surprise', 2)\n",
            "('widow', 3)\n",
            "('rich', 4)\n",
            "('eighteenth-century', 5)\n",
            "('just', 6)\n",
            "('at', 7)\n",
            "('point', 8)\n",
            "('Don', 9)\n",
            "('any', 10)\n",
            "('chest', 11)\n",
            "('wits', 12)\n",
            "('thither', 13)\n",
            "('unusual', 14)\n",
            "('effects', 15)\n",
            "('mourn', 16)\n",
            "('behind', 17)\n",
            "('adulation', 18)\n",
            "('rest', 19)\n",
            "('unexpected', 20)\n",
            "('equally', 21)\n",
            "('past', 22)\n",
            "('outline', 23)\n",
            "('fluently', 24)\n",
            "('quality', 25)\n",
            "('almost', 26)\n",
            "('before', 27)\n",
            "('flung', 28)\n",
            "('unaccountable', 29)\n",
            "('showed', 30)\n",
            "('little', 31)\n",
            "('heart', 32)\n",
            "('loathing', 33)\n",
            "('shrug', 34)\n",
            "('bespoke', 35)\n",
            "('find', 36)\n",
            "('cleverer', 37)\n",
            "('And', 38)\n",
            "('prove', 39)\n",
            "('light', 40)\n",
            "('faces', 41)\n",
            "('apparently', 42)\n",
            "('their', 43)\n",
            "('me', 44)\n",
            "('place', 45)\n",
            "('extracting', 46)\n",
            "('deadening', 47)\n",
            "('manage', 48)\n",
            "('twirling', 49)\n",
            "('absorbed', 50)\n"
          ]
        }
      ],
      "source": [
        "vocab = {token:integer for integer, token in enumerate(all_words)}\n",
        "for i, item in enumerate(vocab.items()):\n",
        "  print(item)\n",
        "  if i >= 50:\n",
        "    break"
      ]
    },
    {
      "cell_type": "markdown",
      "metadata": {
        "id": "JjOjRCW3NKwO"
      },
      "source": [
        "### Extend vocabulary by special tokens"
      ]
    },
    {
      "cell_type": "code",
      "execution_count": 5,
      "metadata": {
        "colab": {
          "base_uri": "https://localhost:8080/"
        },
        "id": "qhVPbUtR0FOo",
        "outputId": "2a1212d0-048f-4260-b312-3cf05cb96e13"
      },
      "outputs": [
        {
          "name": "stdout",
          "output_type": "stream",
          "text": [
            "1132\n",
            "('younger', 4685)\n",
            "('your', 4688)\n",
            "('yourself', 4689)\n",
            "('<|endoftext|>', 4690)\n",
            "('<|unk|>', 4691)\n"
          ]
        }
      ],
      "source": [
        "all_tokens = sorted(list(preprocessed))\n",
        "all_tokens.extend(['<|endoftext|>', '<|unk|>'])\n",
        "vocab = {token:integer for integer, token in enumerate(all_tokens)}\n",
        "print(len(vocab.items()))\n",
        "for i, item in enumerate(list(vocab.items())[-5:]):\n",
        "  print(item)"
      ]
    },
    {
      "cell_type": "markdown",
      "metadata": {
        "id": "enS3vMfqNRM3"
      },
      "source": [
        "### Create and Test a simple Tokenizer"
      ]
    },
    {
      "cell_type": "code",
      "execution_count": 6,
      "metadata": {
        "id": "4qcJHU2SyPy7"
      },
      "outputs": [],
      "source": [
        "class SimpleTokenizer:\n",
        "  def __init__(self, vocab):\n",
        "    self.str_to_int = vocab\n",
        "    self.int_to_str = {i:s for s, i in vocab.items()}\n",
        "\n",
        "  def encode(self, raw_text):\n",
        "    preprocessed = re.split(r'([,.:;?_!\"()\\']|--|\\s)', raw_text)\n",
        "    preprocessed = [item.strip() for item in preprocessed if item.strip()]\n",
        "    preprocessed = [item if item in self.str_to_int else \"<|unk|>\" for item in preprocessed]\n",
        "    ids = [self.str_to_int[s] for s in preprocessed]\n",
        "    return ids\n",
        "\n",
        "  def decode(self, ids):\n",
        "    text = \" \".join([self.int_to_str[id] for id in ids])\n",
        "    text = re.sub(r'\\s+([,.:;?\"()\\'])', r'\\1', text)\n",
        "    return text"
      ]
    },
    {
      "cell_type": "code",
      "execution_count": 7,
      "metadata": {
        "colab": {
          "base_uri": "https://localhost:8080/"
        },
        "id": "_K6nUitDyPnF",
        "outputId": "52dc3438-50b2-4538-f434-a471de3e7807"
      },
      "outputs": [
        {
          "name": "stdout",
          "output_type": "stream",
          "text": [
            "Hello, do you like tea? <|endoftext|> In the sunlit terraces of the palace of someunknownPlace.\n"
          ]
        }
      ],
      "source": [
        "text1 = \"Hello, do you like tea?\"\n",
        "text2 = \"In the sunlit terraces of the palace of someunknownPlace.\"\n",
        "text = \" <|endoftext|> \".join((text1, text2))\n",
        "print(text)"
      ]
    },
    {
      "cell_type": "code",
      "execution_count": 8,
      "metadata": {
        "colab": {
          "base_uri": "https://localhost:8080/"
        },
        "id": "8YXL_1Npzyep",
        "outputId": "9bce4f2c-678a-4f3e-929b-df0b25f9c911"
      },
      "outputs": [
        {
          "name": "stdout",
          "output_type": "stream",
          "text": [
            "[4691, 489, 2009, 4684, 2906, 3889, 865, 4690, 1102, 4131, 3836, 3903, 3265, 4131, 4691, 3265, 4691, 798]\n",
            "<|unk|>, do you like tea? <|endoftext|> In the sunlit terraces of the <|unk|> of <|unk|>.\n"
          ]
        }
      ],
      "source": [
        "tokenizer = SimpleTokenizer(vocab)\n",
        "token_ids = tokenizer.encode(text)\n",
        "print(token_ids)\n",
        "decoded_text = tokenizer.decode(token_ids)\n",
        "print(decoded_text)"
      ]
    },
    {
      "cell_type": "markdown",
      "metadata": {
        "id": "h5rASTzyNWRu"
      },
      "source": [
        "### Use GPT2 Tokenizer"
      ]
    },
    {
      "cell_type": "code",
      "execution_count": 9,
      "metadata": {
        "colab": {
          "base_uri": "https://localhost:8080/"
        },
        "id": "R960sehS1fTX",
        "outputId": "85f71e92-b60d-42fb-c020-e553f7c28160"
      },
      "outputs": [
        {
          "name": "stdout",
          "output_type": "stream",
          "text": [
            "[15496, 11, 466, 345, 588, 8887, 30, 220, 50256, 554, 262, 4252, 18250, 8812, 2114, 286, 262, 20562, 286, 617, 34680, 27271, 13]\n",
            "Hello, do you like tea? <|endoftext|> In the sunlit terraces of the palace of someunknownPlace.\n"
          ]
        }
      ],
      "source": [
        "tokenizer = tiktoken.get_encoding('gpt2')\n",
        "tik_ids = tokenizer.encode(text, allowed_special={\"<|endoftext|>\"})\n",
        "print(tik_ids)\n",
        "strings = tokenizer.decode(tik_ids)\n",
        "print(strings)"
      ]
    },
    {
      "cell_type": "code",
      "execution_count": 10,
      "metadata": {
        "colab": {
          "base_uri": "https://localhost:8080/"
        },
        "id": "paOJVchu3itg",
        "outputId": "b6ea51fb-63a1-4d5f-c195-33b7694798cc"
      },
      "outputs": [
        {
          "name": "stdout",
          "output_type": "stream",
          "text": [
            "[33901, 86, 343, 86, 220, 959]\n",
            "Akwirw ier\n"
          ]
        }
      ],
      "source": [
        "strange_word = 'Akwirw ier'\n",
        "ids = tokenizer.encode(strange_word)\n",
        "print(ids)\n",
        "word = tokenizer.decode(ids)\n",
        "print(word)"
      ]
    },
    {
      "cell_type": "markdown",
      "metadata": {
        "id": "CLoB6QcQNvNO"
      },
      "source": [
        "### Create Tokenized Dataset and Dataloaders using GPT2 Tokenizer"
      ]
    },
    {
      "cell_type": "code",
      "execution_count": 11,
      "metadata": {
        "id": "Q76_OOyo4NCr"
      },
      "outputs": [],
      "source": [
        "class GPTDatasetV1(Dataset):\n",
        "  def __init__(self, text, tokenizer, max_length, stride):\n",
        "    self.input_ids, self.target_ids = [], []\n",
        "    self.max_length = max_length\n",
        "    self.stride = stride\n",
        "\n",
        "    tokens = tokenizer.encode(text)\n",
        "\n",
        "    for i in range(0, len(tokens)-self.max_length, self.stride):\n",
        "      self.input_ids.append(torch.tensor(tokens[i:i+self.max_length]))\n",
        "      self.target_ids.append(torch.tensor(tokens[i+1:i+self.max_length+1]))\n",
        "\n",
        "  def __len__(self):\n",
        "    return len(self.input_ids)\n",
        "\n",
        "  def __getitem__(self, idx):\n",
        "    return self.input_ids[idx], self.target_ids[idx]"
      ]
    },
    {
      "cell_type": "code",
      "execution_count": 12,
      "metadata": {
        "id": "Yv0HI4td9zKZ"
      },
      "outputs": [],
      "source": [
        "def create_dataloader_v1(txt, batch_size=4, max_length=256, stride=128, shuffle=True, drop_last=True, num_workers=0):\n",
        "  tokenizer = tiktoken.get_encoding('gpt2')\n",
        "  dataset = GPTDatasetV1(txt, tokenizer, max_length=max_length, stride=stride)\n",
        "  dataloader = DataLoader(dataset, batch_size=batch_size, shuffle=shuffle, drop_last=drop_last, num_workers=num_workers)\n",
        "  return dataloader\n",
        "\n",
        "def get_batch(dataloader):\n",
        "  data_iter = iter(dataloader)\n",
        "  print('First batch: ', next(data_iter))\n",
        "  print('Second batch: ', next(data_iter))"
      ]
    },
    {
      "cell_type": "code",
      "execution_count": 13,
      "metadata": {
        "id": "wXecZTKB_pMi"
      },
      "outputs": [],
      "source": [
        "with open('the-verdict.txt', 'r', encoding='utf-8') as f:\n",
        "  raw_text = f.read()"
      ]
    },
    {
      "cell_type": "code",
      "execution_count": 14,
      "metadata": {
        "colab": {
          "base_uri": "https://localhost:8080/"
        },
        "id": "CuOExQJFACtD",
        "outputId": "b52fa2d7-ab41-4a8a-f8b6-a63a0b568d37"
      },
      "outputs": [
        {
          "name": "stdout",
          "output_type": "stream",
          "text": [
            "First batch:  [tensor([[  40,  367, 2885, 1464]]), tensor([[ 367, 2885, 1464, 1807]])]\n",
            "Second batch:  [tensor([[ 367, 2885, 1464, 1807]]), tensor([[2885, 1464, 1807, 3619]])]\n",
            "First batch:  [tensor([[ 40, 367]]), tensor([[ 367, 2885]])]\n",
            "Second batch:  [tensor([[2885, 1464]]), tensor([[1464, 1807]])]\n",
            "First batch:  [tensor([[  40,  367, 2885, 1464, 1807, 3619,  402,  271]]), tensor([[  367,  2885,  1464,  1807,  3619,   402,   271, 10899]])]\n",
            "Second batch:  [tensor([[ 2885,  1464,  1807,  3619,   402,   271, 10899,  2138]]), tensor([[ 1464,  1807,  3619,   402,   271, 10899,  2138,   257]])]\n",
            "First batch:  [tensor([[   40,   367,  2885,  1464],\n",
            "        [ 1807,  3619,   402,   271],\n",
            "        [10899,  2138,   257,  7026],\n",
            "        [15632,   438,  2016,   257],\n",
            "        [  922,  5891,  1576,   438],\n",
            "        [  568,   340,   373,   645],\n",
            "        [ 1049,  5975,   284,   502],\n",
            "        [  284,  3285,   326,    11]]), tensor([[  367,  2885,  1464,  1807],\n",
            "        [ 3619,   402,   271, 10899],\n",
            "        [ 2138,   257,  7026, 15632],\n",
            "        [  438,  2016,   257,   922],\n",
            "        [ 5891,  1576,   438,   568],\n",
            "        [  340,   373,   645,  1049],\n",
            "        [ 5975,   284,   502,   284],\n",
            "        [ 3285,   326,    11,   287]])]\n",
            "Second batch:  [tensor([[  287,   262,  6001,   286],\n",
            "        [  465, 13476,    11,   339],\n",
            "        [  550,  5710,   465, 12036],\n",
            "        [   11,  6405,   257,  5527],\n",
            "        [27075,    11,   290,  4920],\n",
            "        [ 2241,   287,   257,  4489],\n",
            "        [   64,   319,   262, 34686],\n",
            "        [41976,    13,   357, 10915]]), tensor([[  262,  6001,   286,   465],\n",
            "        [13476,    11,   339,   550],\n",
            "        [ 5710,   465, 12036,    11],\n",
            "        [ 6405,   257,  5527, 27075],\n",
            "        [   11,   290,  4920,  2241],\n",
            "        [  287,   257,  4489,    64],\n",
            "        [  319,   262, 34686, 41976],\n",
            "        [   13,   357, 10915,   314]])]\n"
          ]
        }
      ],
      "source": [
        "dataloader_1 = create_dataloader_v1(raw_text, batch_size=1, max_length=4, stride=1, shuffle=False)\n",
        "get_batch(dataloader_1)\n",
        "\n",
        "dataloader_2 = create_dataloader_v1(raw_text, batch_size=1, max_length=2, stride=2, shuffle=False)\n",
        "get_batch(dataloader_2)\n",
        "\n",
        "dataloader_3 = create_dataloader_v1(raw_text, batch_size=1, max_length=8, stride=2, shuffle=False)\n",
        "get_batch(dataloader_3)\n",
        "\n",
        "dataloader_4 = create_dataloader_v1(raw_text, batch_size=8, max_length=4, stride=4, shuffle=False)\n",
        "get_batch(dataloader_4)\n",
        "\n",
        "# avoid overlap ---> avoid overfitting"
      ]
    }
  ],
  "metadata": {
    "colab": {
      "provenance": []
    },
    "kernelspec": {
      "display_name": "HuggingFaceModels",
      "language": "python",
      "name": "python3"
    },
    "language_info": {
      "codemirror_mode": {
        "name": "ipython",
        "version": 3
      },
      "file_extension": ".py",
      "mimetype": "text/x-python",
      "name": "python",
      "nbconvert_exporter": "python",
      "pygments_lexer": "ipython3",
      "version": "3.9.19"
    }
  },
  "nbformat": 4,
  "nbformat_minor": 0
}
