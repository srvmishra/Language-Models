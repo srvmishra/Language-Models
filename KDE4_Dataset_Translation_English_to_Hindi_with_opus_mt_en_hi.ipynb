{
  "nbformat": 4,
  "nbformat_minor": 0,
  "metadata": {
    "colab": {
      "provenance": [],
      "gpuType": "T4",
      "authorship_tag": "ABX9TyPGM8wVA8giI/hzcNt3a08d",
      "include_colab_link": true
    },
    "kernelspec": {
      "name": "python3",
      "display_name": "Python 3"
    },
    "language_info": {
      "name": "python"
    },
    "accelerator": "GPU",
    "widgets": {
      "application/vnd.jupyter.widget-state+json": {
        "43aaada448874a18a31370255fad04e0": {
          "model_module": "@jupyter-widgets/controls",
          "model_name": "HBoxModel",
          "model_module_version": "1.5.0",
          "state": {
            "_dom_classes": [],
            "_model_module": "@jupyter-widgets/controls",
            "_model_module_version": "1.5.0",
            "_model_name": "HBoxModel",
            "_view_count": null,
            "_view_module": "@jupyter-widgets/controls",
            "_view_module_version": "1.5.0",
            "_view_name": "HBoxView",
            "box_style": "",
            "children": [
              "IPY_MODEL_57293ce10e5d45559490eee967e44ced",
              "IPY_MODEL_9dc74843294347869fe118efd0415d10",
              "IPY_MODEL_30ea929b65824b548399735495d44b78"
            ],
            "layout": "IPY_MODEL_2fdb6ce063be4c61b693639865edc2aa"
          }
        },
        "57293ce10e5d45559490eee967e44ced": {
          "model_module": "@jupyter-widgets/controls",
          "model_name": "HTMLModel",
          "model_module_version": "1.5.0",
          "state": {
            "_dom_classes": [],
            "_model_module": "@jupyter-widgets/controls",
            "_model_module_version": "1.5.0",
            "_model_name": "HTMLModel",
            "_view_count": null,
            "_view_module": "@jupyter-widgets/controls",
            "_view_module_version": "1.5.0",
            "_view_name": "HTMLView",
            "description": "",
            "description_tooltip": null,
            "layout": "IPY_MODEL_1f5d08ce29794cc7a19680980cf2d342",
            "placeholder": "​",
            "style": "IPY_MODEL_7a99e287175941ca85d3797ea0b6aea9",
            "value": "Map: 100%"
          }
        },
        "9dc74843294347869fe118efd0415d10": {
          "model_module": "@jupyter-widgets/controls",
          "model_name": "FloatProgressModel",
          "model_module_version": "1.5.0",
          "state": {
            "_dom_classes": [],
            "_model_module": "@jupyter-widgets/controls",
            "_model_module_version": "1.5.0",
            "_model_name": "FloatProgressModel",
            "_view_count": null,
            "_view_module": "@jupyter-widgets/controls",
            "_view_module_version": "1.5.0",
            "_view_name": "ProgressView",
            "bar_style": "success",
            "description": "",
            "description_tooltip": null,
            "layout": "IPY_MODEL_a7180fe4073a4b6d8d428192eacfed48",
            "max": 87504,
            "min": 0,
            "orientation": "horizontal",
            "style": "IPY_MODEL_afb1ea684119484a8d7b7f262bd48421",
            "value": 87504
          }
        },
        "30ea929b65824b548399735495d44b78": {
          "model_module": "@jupyter-widgets/controls",
          "model_name": "HTMLModel",
          "model_module_version": "1.5.0",
          "state": {
            "_dom_classes": [],
            "_model_module": "@jupyter-widgets/controls",
            "_model_module_version": "1.5.0",
            "_model_name": "HTMLModel",
            "_view_count": null,
            "_view_module": "@jupyter-widgets/controls",
            "_view_module_version": "1.5.0",
            "_view_name": "HTMLView",
            "description": "",
            "description_tooltip": null,
            "layout": "IPY_MODEL_ba328a9999bd45059d37ddbd2162210c",
            "placeholder": "​",
            "style": "IPY_MODEL_f423d366222f44fc821c1987268798d8",
            "value": " 87504/87504 [00:27&lt;00:00, 4324.01 examples/s]"
          }
        },
        "2fdb6ce063be4c61b693639865edc2aa": {
          "model_module": "@jupyter-widgets/base",
          "model_name": "LayoutModel",
          "model_module_version": "1.2.0",
          "state": {
            "_model_module": "@jupyter-widgets/base",
            "_model_module_version": "1.2.0",
            "_model_name": "LayoutModel",
            "_view_count": null,
            "_view_module": "@jupyter-widgets/base",
            "_view_module_version": "1.2.0",
            "_view_name": "LayoutView",
            "align_content": null,
            "align_items": null,
            "align_self": null,
            "border": null,
            "bottom": null,
            "display": null,
            "flex": null,
            "flex_flow": null,
            "grid_area": null,
            "grid_auto_columns": null,
            "grid_auto_flow": null,
            "grid_auto_rows": null,
            "grid_column": null,
            "grid_gap": null,
            "grid_row": null,
            "grid_template_areas": null,
            "grid_template_columns": null,
            "grid_template_rows": null,
            "height": null,
            "justify_content": null,
            "justify_items": null,
            "left": null,
            "margin": null,
            "max_height": null,
            "max_width": null,
            "min_height": null,
            "min_width": null,
            "object_fit": null,
            "object_position": null,
            "order": null,
            "overflow": null,
            "overflow_x": null,
            "overflow_y": null,
            "padding": null,
            "right": null,
            "top": null,
            "visibility": null,
            "width": null
          }
        },
        "1f5d08ce29794cc7a19680980cf2d342": {
          "model_module": "@jupyter-widgets/base",
          "model_name": "LayoutModel",
          "model_module_version": "1.2.0",
          "state": {
            "_model_module": "@jupyter-widgets/base",
            "_model_module_version": "1.2.0",
            "_model_name": "LayoutModel",
            "_view_count": null,
            "_view_module": "@jupyter-widgets/base",
            "_view_module_version": "1.2.0",
            "_view_name": "LayoutView",
            "align_content": null,
            "align_items": null,
            "align_self": null,
            "border": null,
            "bottom": null,
            "display": null,
            "flex": null,
            "flex_flow": null,
            "grid_area": null,
            "grid_auto_columns": null,
            "grid_auto_flow": null,
            "grid_auto_rows": null,
            "grid_column": null,
            "grid_gap": null,
            "grid_row": null,
            "grid_template_areas": null,
            "grid_template_columns": null,
            "grid_template_rows": null,
            "height": null,
            "justify_content": null,
            "justify_items": null,
            "left": null,
            "margin": null,
            "max_height": null,
            "max_width": null,
            "min_height": null,
            "min_width": null,
            "object_fit": null,
            "object_position": null,
            "order": null,
            "overflow": null,
            "overflow_x": null,
            "overflow_y": null,
            "padding": null,
            "right": null,
            "top": null,
            "visibility": null,
            "width": null
          }
        },
        "7a99e287175941ca85d3797ea0b6aea9": {
          "model_module": "@jupyter-widgets/controls",
          "model_name": "DescriptionStyleModel",
          "model_module_version": "1.5.0",
          "state": {
            "_model_module": "@jupyter-widgets/controls",
            "_model_module_version": "1.5.0",
            "_model_name": "DescriptionStyleModel",
            "_view_count": null,
            "_view_module": "@jupyter-widgets/base",
            "_view_module_version": "1.2.0",
            "_view_name": "StyleView",
            "description_width": ""
          }
        },
        "a7180fe4073a4b6d8d428192eacfed48": {
          "model_module": "@jupyter-widgets/base",
          "model_name": "LayoutModel",
          "model_module_version": "1.2.0",
          "state": {
            "_model_module": "@jupyter-widgets/base",
            "_model_module_version": "1.2.0",
            "_model_name": "LayoutModel",
            "_view_count": null,
            "_view_module": "@jupyter-widgets/base",
            "_view_module_version": "1.2.0",
            "_view_name": "LayoutView",
            "align_content": null,
            "align_items": null,
            "align_self": null,
            "border": null,
            "bottom": null,
            "display": null,
            "flex": null,
            "flex_flow": null,
            "grid_area": null,
            "grid_auto_columns": null,
            "grid_auto_flow": null,
            "grid_auto_rows": null,
            "grid_column": null,
            "grid_gap": null,
            "grid_row": null,
            "grid_template_areas": null,
            "grid_template_columns": null,
            "grid_template_rows": null,
            "height": null,
            "justify_content": null,
            "justify_items": null,
            "left": null,
            "margin": null,
            "max_height": null,
            "max_width": null,
            "min_height": null,
            "min_width": null,
            "object_fit": null,
            "object_position": null,
            "order": null,
            "overflow": null,
            "overflow_x": null,
            "overflow_y": null,
            "padding": null,
            "right": null,
            "top": null,
            "visibility": null,
            "width": null
          }
        },
        "afb1ea684119484a8d7b7f262bd48421": {
          "model_module": "@jupyter-widgets/controls",
          "model_name": "ProgressStyleModel",
          "model_module_version": "1.5.0",
          "state": {
            "_model_module": "@jupyter-widgets/controls",
            "_model_module_version": "1.5.0",
            "_model_name": "ProgressStyleModel",
            "_view_count": null,
            "_view_module": "@jupyter-widgets/base",
            "_view_module_version": "1.2.0",
            "_view_name": "StyleView",
            "bar_color": null,
            "description_width": ""
          }
        },
        "ba328a9999bd45059d37ddbd2162210c": {
          "model_module": "@jupyter-widgets/base",
          "model_name": "LayoutModel",
          "model_module_version": "1.2.0",
          "state": {
            "_model_module": "@jupyter-widgets/base",
            "_model_module_version": "1.2.0",
            "_model_name": "LayoutModel",
            "_view_count": null,
            "_view_module": "@jupyter-widgets/base",
            "_view_module_version": "1.2.0",
            "_view_name": "LayoutView",
            "align_content": null,
            "align_items": null,
            "align_self": null,
            "border": null,
            "bottom": null,
            "display": null,
            "flex": null,
            "flex_flow": null,
            "grid_area": null,
            "grid_auto_columns": null,
            "grid_auto_flow": null,
            "grid_auto_rows": null,
            "grid_column": null,
            "grid_gap": null,
            "grid_row": null,
            "grid_template_areas": null,
            "grid_template_columns": null,
            "grid_template_rows": null,
            "height": null,
            "justify_content": null,
            "justify_items": null,
            "left": null,
            "margin": null,
            "max_height": null,
            "max_width": null,
            "min_height": null,
            "min_width": null,
            "object_fit": null,
            "object_position": null,
            "order": null,
            "overflow": null,
            "overflow_x": null,
            "overflow_y": null,
            "padding": null,
            "right": null,
            "top": null,
            "visibility": null,
            "width": null
          }
        },
        "f423d366222f44fc821c1987268798d8": {
          "model_module": "@jupyter-widgets/controls",
          "model_name": "DescriptionStyleModel",
          "model_module_version": "1.5.0",
          "state": {
            "_model_module": "@jupyter-widgets/controls",
            "_model_module_version": "1.5.0",
            "_model_name": "DescriptionStyleModel",
            "_view_count": null,
            "_view_module": "@jupyter-widgets/base",
            "_view_module_version": "1.2.0",
            "_view_name": "StyleView",
            "description_width": ""
          }
        },
        "0b7a9348d26349b3bc332ddec8f93fb9": {
          "model_module": "@jupyter-widgets/controls",
          "model_name": "HBoxModel",
          "model_module_version": "1.5.0",
          "state": {
            "_dom_classes": [],
            "_model_module": "@jupyter-widgets/controls",
            "_model_module_version": "1.5.0",
            "_model_name": "HBoxModel",
            "_view_count": null,
            "_view_module": "@jupyter-widgets/controls",
            "_view_module_version": "1.5.0",
            "_view_name": "HBoxView",
            "box_style": "",
            "children": [
              "IPY_MODEL_48a5b617451949afa0e3f35cee63f21c",
              "IPY_MODEL_5752fb70915d4fd8ad7f65a531953730",
              "IPY_MODEL_95004ea8f8d54762a6fb1a27c5a67d21"
            ],
            "layout": "IPY_MODEL_d1e00c83dfef4202a364ac479a1e7f37"
          }
        },
        "48a5b617451949afa0e3f35cee63f21c": {
          "model_module": "@jupyter-widgets/controls",
          "model_name": "HTMLModel",
          "model_module_version": "1.5.0",
          "state": {
            "_dom_classes": [],
            "_model_module": "@jupyter-widgets/controls",
            "_model_module_version": "1.5.0",
            "_model_name": "HTMLModel",
            "_view_count": null,
            "_view_module": "@jupyter-widgets/controls",
            "_view_module_version": "1.5.0",
            "_view_name": "HTMLView",
            "description": "",
            "description_tooltip": null,
            "layout": "IPY_MODEL_c080fb01b7a2403381fa07d123cb9e04",
            "placeholder": "​",
            "style": "IPY_MODEL_4da8f05ff1dc45d8abac66788d8fbc1c",
            "value": "Map: 100%"
          }
        },
        "5752fb70915d4fd8ad7f65a531953730": {
          "model_module": "@jupyter-widgets/controls",
          "model_name": "FloatProgressModel",
          "model_module_version": "1.5.0",
          "state": {
            "_dom_classes": [],
            "_model_module": "@jupyter-widgets/controls",
            "_model_module_version": "1.5.0",
            "_model_name": "FloatProgressModel",
            "_view_count": null,
            "_view_module": "@jupyter-widgets/controls",
            "_view_module_version": "1.5.0",
            "_view_name": "ProgressView",
            "bar_style": "success",
            "description": "",
            "description_tooltip": null,
            "layout": "IPY_MODEL_50614721324843919a5e8e339e412f3c",
            "max": 9723,
            "min": 0,
            "orientation": "horizontal",
            "style": "IPY_MODEL_821efdbe848e4e2987216a7a9d2ea79b",
            "value": 9723
          }
        },
        "95004ea8f8d54762a6fb1a27c5a67d21": {
          "model_module": "@jupyter-widgets/controls",
          "model_name": "HTMLModel",
          "model_module_version": "1.5.0",
          "state": {
            "_dom_classes": [],
            "_model_module": "@jupyter-widgets/controls",
            "_model_module_version": "1.5.0",
            "_model_name": "HTMLModel",
            "_view_count": null,
            "_view_module": "@jupyter-widgets/controls",
            "_view_module_version": "1.5.0",
            "_view_name": "HTMLView",
            "description": "",
            "description_tooltip": null,
            "layout": "IPY_MODEL_4f6ec768abc348a2bef45eefd4e84238",
            "placeholder": "​",
            "style": "IPY_MODEL_d6e55097aae54bfea45e27dccaf8ea5c",
            "value": " 9723/9723 [00:02&lt;00:00, 5467.01 examples/s]"
          }
        },
        "d1e00c83dfef4202a364ac479a1e7f37": {
          "model_module": "@jupyter-widgets/base",
          "model_name": "LayoutModel",
          "model_module_version": "1.2.0",
          "state": {
            "_model_module": "@jupyter-widgets/base",
            "_model_module_version": "1.2.0",
            "_model_name": "LayoutModel",
            "_view_count": null,
            "_view_module": "@jupyter-widgets/base",
            "_view_module_version": "1.2.0",
            "_view_name": "LayoutView",
            "align_content": null,
            "align_items": null,
            "align_self": null,
            "border": null,
            "bottom": null,
            "display": null,
            "flex": null,
            "flex_flow": null,
            "grid_area": null,
            "grid_auto_columns": null,
            "grid_auto_flow": null,
            "grid_auto_rows": null,
            "grid_column": null,
            "grid_gap": null,
            "grid_row": null,
            "grid_template_areas": null,
            "grid_template_columns": null,
            "grid_template_rows": null,
            "height": null,
            "justify_content": null,
            "justify_items": null,
            "left": null,
            "margin": null,
            "max_height": null,
            "max_width": null,
            "min_height": null,
            "min_width": null,
            "object_fit": null,
            "object_position": null,
            "order": null,
            "overflow": null,
            "overflow_x": null,
            "overflow_y": null,
            "padding": null,
            "right": null,
            "top": null,
            "visibility": null,
            "width": null
          }
        },
        "c080fb01b7a2403381fa07d123cb9e04": {
          "model_module": "@jupyter-widgets/base",
          "model_name": "LayoutModel",
          "model_module_version": "1.2.0",
          "state": {
            "_model_module": "@jupyter-widgets/base",
            "_model_module_version": "1.2.0",
            "_model_name": "LayoutModel",
            "_view_count": null,
            "_view_module": "@jupyter-widgets/base",
            "_view_module_version": "1.2.0",
            "_view_name": "LayoutView",
            "align_content": null,
            "align_items": null,
            "align_self": null,
            "border": null,
            "bottom": null,
            "display": null,
            "flex": null,
            "flex_flow": null,
            "grid_area": null,
            "grid_auto_columns": null,
            "grid_auto_flow": null,
            "grid_auto_rows": null,
            "grid_column": null,
            "grid_gap": null,
            "grid_row": null,
            "grid_template_areas": null,
            "grid_template_columns": null,
            "grid_template_rows": null,
            "height": null,
            "justify_content": null,
            "justify_items": null,
            "left": null,
            "margin": null,
            "max_height": null,
            "max_width": null,
            "min_height": null,
            "min_width": null,
            "object_fit": null,
            "object_position": null,
            "order": null,
            "overflow": null,
            "overflow_x": null,
            "overflow_y": null,
            "padding": null,
            "right": null,
            "top": null,
            "visibility": null,
            "width": null
          }
        },
        "4da8f05ff1dc45d8abac66788d8fbc1c": {
          "model_module": "@jupyter-widgets/controls",
          "model_name": "DescriptionStyleModel",
          "model_module_version": "1.5.0",
          "state": {
            "_model_module": "@jupyter-widgets/controls",
            "_model_module_version": "1.5.0",
            "_model_name": "DescriptionStyleModel",
            "_view_count": null,
            "_view_module": "@jupyter-widgets/base",
            "_view_module_version": "1.2.0",
            "_view_name": "StyleView",
            "description_width": ""
          }
        },
        "50614721324843919a5e8e339e412f3c": {
          "model_module": "@jupyter-widgets/base",
          "model_name": "LayoutModel",
          "model_module_version": "1.2.0",
          "state": {
            "_model_module": "@jupyter-widgets/base",
            "_model_module_version": "1.2.0",
            "_model_name": "LayoutModel",
            "_view_count": null,
            "_view_module": "@jupyter-widgets/base",
            "_view_module_version": "1.2.0",
            "_view_name": "LayoutView",
            "align_content": null,
            "align_items": null,
            "align_self": null,
            "border": null,
            "bottom": null,
            "display": null,
            "flex": null,
            "flex_flow": null,
            "grid_area": null,
            "grid_auto_columns": null,
            "grid_auto_flow": null,
            "grid_auto_rows": null,
            "grid_column": null,
            "grid_gap": null,
            "grid_row": null,
            "grid_template_areas": null,
            "grid_template_columns": null,
            "grid_template_rows": null,
            "height": null,
            "justify_content": null,
            "justify_items": null,
            "left": null,
            "margin": null,
            "max_height": null,
            "max_width": null,
            "min_height": null,
            "min_width": null,
            "object_fit": null,
            "object_position": null,
            "order": null,
            "overflow": null,
            "overflow_x": null,
            "overflow_y": null,
            "padding": null,
            "right": null,
            "top": null,
            "visibility": null,
            "width": null
          }
        },
        "821efdbe848e4e2987216a7a9d2ea79b": {
          "model_module": "@jupyter-widgets/controls",
          "model_name": "ProgressStyleModel",
          "model_module_version": "1.5.0",
          "state": {
            "_model_module": "@jupyter-widgets/controls",
            "_model_module_version": "1.5.0",
            "_model_name": "ProgressStyleModel",
            "_view_count": null,
            "_view_module": "@jupyter-widgets/base",
            "_view_module_version": "1.2.0",
            "_view_name": "StyleView",
            "bar_color": null,
            "description_width": ""
          }
        },
        "4f6ec768abc348a2bef45eefd4e84238": {
          "model_module": "@jupyter-widgets/base",
          "model_name": "LayoutModel",
          "model_module_version": "1.2.0",
          "state": {
            "_model_module": "@jupyter-widgets/base",
            "_model_module_version": "1.2.0",
            "_model_name": "LayoutModel",
            "_view_count": null,
            "_view_module": "@jupyter-widgets/base",
            "_view_module_version": "1.2.0",
            "_view_name": "LayoutView",
            "align_content": null,
            "align_items": null,
            "align_self": null,
            "border": null,
            "bottom": null,
            "display": null,
            "flex": null,
            "flex_flow": null,
            "grid_area": null,
            "grid_auto_columns": null,
            "grid_auto_flow": null,
            "grid_auto_rows": null,
            "grid_column": null,
            "grid_gap": null,
            "grid_row": null,
            "grid_template_areas": null,
            "grid_template_columns": null,
            "grid_template_rows": null,
            "height": null,
            "justify_content": null,
            "justify_items": null,
            "left": null,
            "margin": null,
            "max_height": null,
            "max_width": null,
            "min_height": null,
            "min_width": null,
            "object_fit": null,
            "object_position": null,
            "order": null,
            "overflow": null,
            "overflow_x": null,
            "overflow_y": null,
            "padding": null,
            "right": null,
            "top": null,
            "visibility": null,
            "width": null
          }
        },
        "d6e55097aae54bfea45e27dccaf8ea5c": {
          "model_module": "@jupyter-widgets/controls",
          "model_name": "DescriptionStyleModel",
          "model_module_version": "1.5.0",
          "state": {
            "_model_module": "@jupyter-widgets/controls",
            "_model_module_version": "1.5.0",
            "_model_name": "DescriptionStyleModel",
            "_view_count": null,
            "_view_module": "@jupyter-widgets/base",
            "_view_module_version": "1.2.0",
            "_view_name": "StyleView",
            "description_width": ""
          }
        }
      }
    }
  },
  "cells": [
    {
      "cell_type": "markdown",
      "metadata": {
        "id": "view-in-github",
        "colab_type": "text"
      },
      "source": [
        "<a href=\"https://colab.research.google.com/github/srvmishra/Language-Models/blob/main/KDE4_Dataset_Translation_English_to_Hindi_with_opus_mt_en_hi.ipynb\" target=\"_parent\"><img src=\"https://colab.research.google.com/assets/colab-badge.svg\" alt=\"Open In Colab\"/></a>"
      ]
    },
    {
      "cell_type": "code",
      "execution_count": 1,
      "metadata": {
        "colab": {
          "base_uri": "https://localhost:8080/"
        },
        "id": "XUWj29Y7pfnn",
        "outputId": "f8c2392a-48df-4ff7-b75e-88fed0f0f173"
      },
      "outputs": [
        {
          "output_type": "stream",
          "name": "stdout",
          "text": [
            "Requirement already satisfied: datasets in /usr/local/lib/python3.11/dist-packages (3.4.1)\n",
            "Requirement already satisfied: filelock in /usr/local/lib/python3.11/dist-packages (from datasets) (3.18.0)\n",
            "Requirement already satisfied: numpy>=1.17 in /usr/local/lib/python3.11/dist-packages (from datasets) (2.0.2)\n",
            "Requirement already satisfied: pyarrow>=15.0.0 in /usr/local/lib/python3.11/dist-packages (from datasets) (18.1.0)\n",
            "Requirement already satisfied: dill<0.3.9,>=0.3.0 in /usr/local/lib/python3.11/dist-packages (from datasets) (0.3.8)\n",
            "Requirement already satisfied: pandas in /usr/local/lib/python3.11/dist-packages (from datasets) (2.2.2)\n",
            "Requirement already satisfied: requests>=2.32.2 in /usr/local/lib/python3.11/dist-packages (from datasets) (2.32.3)\n",
            "Requirement already satisfied: tqdm>=4.66.3 in /usr/local/lib/python3.11/dist-packages (from datasets) (4.67.1)\n",
            "Requirement already satisfied: xxhash in /usr/local/lib/python3.11/dist-packages (from datasets) (3.5.0)\n",
            "Requirement already satisfied: multiprocess<0.70.17 in /usr/local/lib/python3.11/dist-packages (from datasets) (0.70.16)\n",
            "Requirement already satisfied: fsspec<=2024.12.0,>=2023.1.0 in /usr/local/lib/python3.11/dist-packages (from fsspec[http]<=2024.12.0,>=2023.1.0->datasets) (2024.12.0)\n",
            "Requirement already satisfied: aiohttp in /usr/local/lib/python3.11/dist-packages (from datasets) (3.11.14)\n",
            "Requirement already satisfied: huggingface-hub>=0.24.0 in /usr/local/lib/python3.11/dist-packages (from datasets) (0.29.3)\n",
            "Requirement already satisfied: packaging in /usr/local/lib/python3.11/dist-packages (from datasets) (24.2)\n",
            "Requirement already satisfied: pyyaml>=5.1 in /usr/local/lib/python3.11/dist-packages (from datasets) (6.0.2)\n",
            "Requirement already satisfied: aiohappyeyeballs>=2.3.0 in /usr/local/lib/python3.11/dist-packages (from aiohttp->datasets) (2.6.1)\n",
            "Requirement already satisfied: aiosignal>=1.1.2 in /usr/local/lib/python3.11/dist-packages (from aiohttp->datasets) (1.3.2)\n",
            "Requirement already satisfied: attrs>=17.3.0 in /usr/local/lib/python3.11/dist-packages (from aiohttp->datasets) (25.3.0)\n",
            "Requirement already satisfied: frozenlist>=1.1.1 in /usr/local/lib/python3.11/dist-packages (from aiohttp->datasets) (1.5.0)\n",
            "Requirement already satisfied: multidict<7.0,>=4.5 in /usr/local/lib/python3.11/dist-packages (from aiohttp->datasets) (6.2.0)\n",
            "Requirement already satisfied: propcache>=0.2.0 in /usr/local/lib/python3.11/dist-packages (from aiohttp->datasets) (0.3.0)\n",
            "Requirement already satisfied: yarl<2.0,>=1.17.0 in /usr/local/lib/python3.11/dist-packages (from aiohttp->datasets) (1.18.3)\n",
            "Requirement already satisfied: typing-extensions>=3.7.4.3 in /usr/local/lib/python3.11/dist-packages (from huggingface-hub>=0.24.0->datasets) (4.12.2)\n",
            "Requirement already satisfied: charset-normalizer<4,>=2 in /usr/local/lib/python3.11/dist-packages (from requests>=2.32.2->datasets) (3.4.1)\n",
            "Requirement already satisfied: idna<4,>=2.5 in /usr/local/lib/python3.11/dist-packages (from requests>=2.32.2->datasets) (3.10)\n",
            "Requirement already satisfied: urllib3<3,>=1.21.1 in /usr/local/lib/python3.11/dist-packages (from requests>=2.32.2->datasets) (2.3.0)\n",
            "Requirement already satisfied: certifi>=2017.4.17 in /usr/local/lib/python3.11/dist-packages (from requests>=2.32.2->datasets) (2025.1.31)\n",
            "Requirement already satisfied: python-dateutil>=2.8.2 in /usr/local/lib/python3.11/dist-packages (from pandas->datasets) (2.8.2)\n",
            "Requirement already satisfied: pytz>=2020.1 in /usr/local/lib/python3.11/dist-packages (from pandas->datasets) (2025.1)\n",
            "Requirement already satisfied: tzdata>=2022.7 in /usr/local/lib/python3.11/dist-packages (from pandas->datasets) (2025.1)\n",
            "Requirement already satisfied: six>=1.5 in /usr/local/lib/python3.11/dist-packages (from python-dateutil>=2.8.2->pandas->datasets) (1.17.0)\n",
            "Requirement already satisfied: evaluate in /usr/local/lib/python3.11/dist-packages (0.4.3)\n",
            "Requirement already satisfied: datasets>=2.0.0 in /usr/local/lib/python3.11/dist-packages (from evaluate) (3.4.1)\n",
            "Requirement already satisfied: numpy>=1.17 in /usr/local/lib/python3.11/dist-packages (from evaluate) (2.0.2)\n",
            "Requirement already satisfied: dill in /usr/local/lib/python3.11/dist-packages (from evaluate) (0.3.8)\n",
            "Requirement already satisfied: pandas in /usr/local/lib/python3.11/dist-packages (from evaluate) (2.2.2)\n",
            "Requirement already satisfied: requests>=2.19.0 in /usr/local/lib/python3.11/dist-packages (from evaluate) (2.32.3)\n",
            "Requirement already satisfied: tqdm>=4.62.1 in /usr/local/lib/python3.11/dist-packages (from evaluate) (4.67.1)\n",
            "Requirement already satisfied: xxhash in /usr/local/lib/python3.11/dist-packages (from evaluate) (3.5.0)\n",
            "Requirement already satisfied: multiprocess in /usr/local/lib/python3.11/dist-packages (from evaluate) (0.70.16)\n",
            "Requirement already satisfied: fsspec>=2021.05.0 in /usr/local/lib/python3.11/dist-packages (from fsspec[http]>=2021.05.0->evaluate) (2024.12.0)\n",
            "Requirement already satisfied: huggingface-hub>=0.7.0 in /usr/local/lib/python3.11/dist-packages (from evaluate) (0.29.3)\n",
            "Requirement already satisfied: packaging in /usr/local/lib/python3.11/dist-packages (from evaluate) (24.2)\n",
            "Requirement already satisfied: filelock in /usr/local/lib/python3.11/dist-packages (from datasets>=2.0.0->evaluate) (3.18.0)\n",
            "Requirement already satisfied: pyarrow>=15.0.0 in /usr/local/lib/python3.11/dist-packages (from datasets>=2.0.0->evaluate) (18.1.0)\n",
            "Requirement already satisfied: aiohttp in /usr/local/lib/python3.11/dist-packages (from datasets>=2.0.0->evaluate) (3.11.14)\n",
            "Requirement already satisfied: pyyaml>=5.1 in /usr/local/lib/python3.11/dist-packages (from datasets>=2.0.0->evaluate) (6.0.2)\n",
            "Requirement already satisfied: typing-extensions>=3.7.4.3 in /usr/local/lib/python3.11/dist-packages (from huggingface-hub>=0.7.0->evaluate) (4.12.2)\n",
            "Requirement already satisfied: charset-normalizer<4,>=2 in /usr/local/lib/python3.11/dist-packages (from requests>=2.19.0->evaluate) (3.4.1)\n",
            "Requirement already satisfied: idna<4,>=2.5 in /usr/local/lib/python3.11/dist-packages (from requests>=2.19.0->evaluate) (3.10)\n",
            "Requirement already satisfied: urllib3<3,>=1.21.1 in /usr/local/lib/python3.11/dist-packages (from requests>=2.19.0->evaluate) (2.3.0)\n",
            "Requirement already satisfied: certifi>=2017.4.17 in /usr/local/lib/python3.11/dist-packages (from requests>=2.19.0->evaluate) (2025.1.31)\n",
            "Requirement already satisfied: python-dateutil>=2.8.2 in /usr/local/lib/python3.11/dist-packages (from pandas->evaluate) (2.8.2)\n",
            "Requirement already satisfied: pytz>=2020.1 in /usr/local/lib/python3.11/dist-packages (from pandas->evaluate) (2025.1)\n",
            "Requirement already satisfied: tzdata>=2022.7 in /usr/local/lib/python3.11/dist-packages (from pandas->evaluate) (2025.1)\n",
            "Requirement already satisfied: aiohappyeyeballs>=2.3.0 in /usr/local/lib/python3.11/dist-packages (from aiohttp->datasets>=2.0.0->evaluate) (2.6.1)\n",
            "Requirement already satisfied: aiosignal>=1.1.2 in /usr/local/lib/python3.11/dist-packages (from aiohttp->datasets>=2.0.0->evaluate) (1.3.2)\n",
            "Requirement already satisfied: attrs>=17.3.0 in /usr/local/lib/python3.11/dist-packages (from aiohttp->datasets>=2.0.0->evaluate) (25.3.0)\n",
            "Requirement already satisfied: frozenlist>=1.1.1 in /usr/local/lib/python3.11/dist-packages (from aiohttp->datasets>=2.0.0->evaluate) (1.5.0)\n",
            "Requirement already satisfied: multidict<7.0,>=4.5 in /usr/local/lib/python3.11/dist-packages (from aiohttp->datasets>=2.0.0->evaluate) (6.2.0)\n",
            "Requirement already satisfied: propcache>=0.2.0 in /usr/local/lib/python3.11/dist-packages (from aiohttp->datasets>=2.0.0->evaluate) (0.3.0)\n",
            "Requirement already satisfied: yarl<2.0,>=1.17.0 in /usr/local/lib/python3.11/dist-packages (from aiohttp->datasets>=2.0.0->evaluate) (1.18.3)\n",
            "Requirement already satisfied: six>=1.5 in /usr/local/lib/python3.11/dist-packages (from python-dateutil>=2.8.2->pandas->evaluate) (1.17.0)\n",
            "Requirement already satisfied: sacrebleu in /usr/local/lib/python3.11/dist-packages (2.5.1)\n",
            "Requirement already satisfied: portalocker in /usr/local/lib/python3.11/dist-packages (from sacrebleu) (3.1.1)\n",
            "Requirement already satisfied: regex in /usr/local/lib/python3.11/dist-packages (from sacrebleu) (2024.11.6)\n",
            "Requirement already satisfied: tabulate>=0.8.9 in /usr/local/lib/python3.11/dist-packages (from sacrebleu) (0.9.0)\n",
            "Requirement already satisfied: numpy>=1.17 in /usr/local/lib/python3.11/dist-packages (from sacrebleu) (2.0.2)\n",
            "Requirement already satisfied: colorama in /usr/local/lib/python3.11/dist-packages (from sacrebleu) (0.4.6)\n",
            "Requirement already satisfied: lxml in /usr/local/lib/python3.11/dist-packages (from sacrebleu) (5.3.1)\n"
          ]
        }
      ],
      "source": [
        "!pip install datasets\n",
        "!pip install evaluate\n",
        "!pip install sacrebleu"
      ]
    },
    {
      "cell_type": "markdown",
      "source": [
        "### Imports"
      ],
      "metadata": {
        "id": "7snfG8m47UtS"
      }
    },
    {
      "cell_type": "code",
      "source": [
        "import numpy as np\n",
        "import pandas as pd\n",
        "import matplotlib.pyplot as plt\n",
        "\n",
        "import torch\n",
        "import torch.nn as nn\n",
        "\n",
        "from datasets import load_dataset\n",
        "import evaluate\n",
        "from transformers import AutoTokenizer, AutoModelForSeq2SeqLM, pipeline\n",
        "from transformers import Seq2SeqTrainingArguments, Seq2SeqTrainer, DataCollatorForSeq2Seq\n",
        "\n",
        "from huggingface_hub import notebook_login"
      ],
      "metadata": {
        "id": "uB-9i3jgqjwo"
      },
      "execution_count": 2,
      "outputs": []
    },
    {
      "cell_type": "markdown",
      "source": [
        "### Load Dataset for English to Hindi Translation"
      ],
      "metadata": {
        "id": "BsfQg2t97W65"
      }
    },
    {
      "cell_type": "code",
      "source": [
        "translation_data = load_dataset('kde4', lang1='en', lang2='hi')\n",
        "translation_data"
      ],
      "metadata": {
        "colab": {
          "base_uri": "https://localhost:8080/"
        },
        "id": "7Qa-XyNMrORj",
        "outputId": "f907f51c-2741-4c67-cc0b-99f9adad9f3c"
      },
      "execution_count": 3,
      "outputs": [
        {
          "output_type": "stream",
          "name": "stderr",
          "text": [
            "/usr/local/lib/python3.11/dist-packages/huggingface_hub/utils/_auth.py:94: UserWarning: \n",
            "The secret `HF_TOKEN` does not exist in your Colab secrets.\n",
            "To authenticate with the Hugging Face Hub, create a token in your settings tab (https://huggingface.co/settings/tokens), set it as secret in your Google Colab and restart your session.\n",
            "You will be able to reuse this secret in all of your notebooks.\n",
            "Please note that authentication is recommended but still optional to access public models or datasets.\n",
            "  warnings.warn(\n"
          ]
        },
        {
          "output_type": "execute_result",
          "data": {
            "text/plain": [
              "DatasetDict({\n",
              "    train: Dataset({\n",
              "        features: ['id', 'translation'],\n",
              "        num_rows: 97227\n",
              "    })\n",
              "})"
            ]
          },
          "metadata": {},
          "execution_count": 3
        }
      ]
    },
    {
      "cell_type": "markdown",
      "source": [
        "### Inspect Dataset\n",
        "\n",
        "Get an estimate of the `max_length` by looking at the lengths of the source and target language texts."
      ],
      "metadata": {
        "id": "vOqnPEpf7kFX"
      }
    },
    {
      "cell_type": "code",
      "source": [
        "def view_samples_and_lengths(example):\n",
        "  src_lang_text = [text['en'] for text in example['translation']]\n",
        "  tgt_lang_text = [text['hi'] for text in example['translation']]\n",
        "  print('English: ', src_lang_text)\n",
        "  print('Hindi: ', tgt_lang_text)\n",
        "  print('English: ', [len(src.split()) for src in src_lang_text])\n",
        "  print('Hindi: ', [len(tgt.split()) for tgt in tgt_lang_text])\n",
        "  return"
      ],
      "metadata": {
        "id": "huciKgJexxuJ"
      },
      "execution_count": 4,
      "outputs": []
    },
    {
      "cell_type": "code",
      "source": [
        "samples = translation_data['train'].select(range(5))\n",
        "samples['translation']"
      ],
      "metadata": {
        "colab": {
          "base_uri": "https://localhost:8080/"
        },
        "id": "dF_2hi2ByIeO",
        "outputId": "3af44d0e-5161-4f54-8da2-8124e8c43ecb"
      },
      "execution_count": 5,
      "outputs": [
        {
          "output_type": "execute_result",
          "data": {
            "text/plain": [
              "[{'en': 'Add Feed to Akregator', 'hi': 'फ़ीड को एकेरेगेटर में जोड़ें'},\n",
              " {'en': 'Add Feeds to Akregator', 'hi': 'फ़ीडों को एकेरेगेटर में जोड़ें'},\n",
              " {'en': 'Add All Found Feeds to Akregator',\n",
              "  'hi': 'सभी प्राप्त फ़ीडों को एकेरेगेटर में जोड़ें'},\n",
              " {'en': 'Subscribe to site updates (using news feed)',\n",
              "  'hi': 'साइट अपडेट की ग्राहकी लें (समाचार फ़ीडों के जरिए)'},\n",
              " {'en': 'Imported Feeds', 'hi': 'आयातित फ़ीड'}]"
            ]
          },
          "metadata": {},
          "execution_count": 5
        }
      ]
    },
    {
      "cell_type": "code",
      "source": [
        "view_samples_and_lengths(samples)"
      ],
      "metadata": {
        "colab": {
          "base_uri": "https://localhost:8080/"
        },
        "id": "hV0yDqfgy7Fn",
        "outputId": "775d0d40-82eb-4150-e38f-a8aa48c3ef73"
      },
      "execution_count": 6,
      "outputs": [
        {
          "output_type": "stream",
          "name": "stdout",
          "text": [
            "English:  ['Add Feed to Akregator', 'Add Feeds to Akregator', 'Add All Found Feeds to Akregator', 'Subscribe to site updates (using news feed)', 'Imported Feeds']\n",
            "Hindi:  ['फ़ीड को एकेरेगेटर में जोड़ें', 'फ़ीडों को एकेरेगेटर में जोड़ें', 'सभी प्राप्त फ़ीडों को एकेरेगेटर में जोड़ें', 'साइट अपडेट की ग्राहकी लें (समाचार फ़ीडों के जरिए)', 'आयातित फ़ीड']\n",
            "English:  [4, 4, 6, 7, 2]\n",
            "Hindi:  [5, 5, 7, 9, 2]\n"
          ]
        }
      ]
    },
    {
      "cell_type": "code",
      "source": [
        "def add_lengths_to_dataset(example):\n",
        "  src_lang_len = [len(text['en'].split()) for text in example['translation']]\n",
        "  tgt_lang_len = [len(text['hi'].split()) for text in example['translation']]\n",
        "  example['src_lang'] = [text['en'] for text in example['translation']]\n",
        "  example['tgt_lang'] = [text['hi'] for text in example['translation']]\n",
        "  example['src_lang_len'] = src_lang_len\n",
        "  example['tgt_lang_len'] = tgt_lang_len\n",
        "  return example"
      ],
      "metadata": {
        "id": "8Rc-89hOzM5E"
      },
      "execution_count": 7,
      "outputs": []
    },
    {
      "cell_type": "code",
      "source": [
        "processed_dataset = translation_data.map(add_lengths_to_dataset, batched=True,\n",
        "                                         remove_columns=translation_data['train'].column_names)\n",
        "processed_dataset"
      ],
      "metadata": {
        "colab": {
          "base_uri": "https://localhost:8080/"
        },
        "id": "XzX3IsSV0I4g",
        "outputId": "a8451536-8620-458f-eb74-cd477a7b721b"
      },
      "execution_count": 8,
      "outputs": [
        {
          "output_type": "execute_result",
          "data": {
            "text/plain": [
              "DatasetDict({\n",
              "    train: Dataset({\n",
              "        features: ['src_lang', 'tgt_lang', 'src_lang_len', 'tgt_lang_len'],\n",
              "        num_rows: 97227\n",
              "    })\n",
              "})"
            ]
          },
          "metadata": {},
          "execution_count": 8
        }
      ]
    },
    {
      "cell_type": "code",
      "source": [
        "processed_dataset.set_format('pandas', columns=['src_lang_len', 'tgt_lang_len'])\n",
        "processed_df = processed_dataset['train'][:]\n",
        "\n",
        "processed_df.boxplot(['src_lang_len', 'tgt_lang_len'], showfliers=False, grid=False, color='black')\n",
        "plt.suptitle('')\n",
        "plt.xlabel('')\n",
        "plt.show()\n",
        "\n",
        "processed_dataset.reset_format()"
      ],
      "metadata": {
        "colab": {
          "base_uri": "https://localhost:8080/",
          "height": 430
        },
        "id": "8-oA5YIf05OB",
        "outputId": "5a5b45bc-14fc-4574-ff6d-f62bd5fea19b"
      },
      "execution_count": 9,
      "outputs": [
        {
          "output_type": "display_data",
          "data": {
            "text/plain": [
              "<Figure size 640x480 with 1 Axes>"
            ],
            "image/png": "[encoded data removed]"
          },
          "metadata": {}
        }
      ]
    },
    {
      "cell_type": "markdown",
      "source": [
        "### Train Test Split"
      ],
      "metadata": {
        "id": "acXkEWf97e7h"
      }
    },
    {
      "cell_type": "code",
      "source": [
        "processed_dataset = processed_dataset['train'].train_test_split(train_size=0.9, seed=42)\n",
        "processed_dataset['validation'] = processed_dataset.pop('test')\n",
        "processed_dataset"
      ],
      "metadata": {
        "colab": {
          "base_uri": "https://localhost:8080/"
        },
        "id": "sAgTLv8t12De",
        "outputId": "c58cc584-9fe0-4daa-d42e-8664e3675957"
      },
      "execution_count": 10,
      "outputs": [
        {
          "output_type": "execute_result",
          "data": {
            "text/plain": [
              "DatasetDict({\n",
              "    train: Dataset({\n",
              "        features: ['src_lang', 'tgt_lang', 'src_lang_len', 'tgt_lang_len'],\n",
              "        num_rows: 87504\n",
              "    })\n",
              "    validation: Dataset({\n",
              "        features: ['src_lang', 'tgt_lang', 'src_lang_len', 'tgt_lang_len'],\n",
              "        num_rows: 9723\n",
              "    })\n",
              "})"
            ]
          },
          "metadata": {},
          "execution_count": 10
        }
      ]
    },
    {
      "cell_type": "markdown",
      "source": [
        "KDE4 en-fr data feature: Some technical words are translated into the target language in the dataset but the pretrained model does not translate these words because it works that way in normal day to day conversations. Similar thing is seen in en-hi. Original non-translatable words are retained in the source language, in the dataset as well."
      ],
      "metadata": {
        "id": "w_rbCAmDxVX9"
      }
    },
    {
      "cell_type": "markdown",
      "source": [
        "### Load Model and Tokenizer\n",
        "\n",
        "Check translation on an example piece of text.\n",
        "\n",
        "Model: `Helsinki-NLP/opus-mt-en-hi`"
      ],
      "metadata": {
        "id": "7yUIicoe77su"
      }
    },
    {
      "cell_type": "code",
      "source": [
        "model_ckpt = 'Helsinki-NLP/opus-mt-en-hi'\n",
        "tokenizer = AutoTokenizer.from_pretrained(model_ckpt)\n",
        "model = AutoModelForSeq2SeqLM.from_pretrained(model_ckpt)\n",
        "translator = pipeline('translation', model=model_ckpt)\n",
        "translator('Hello, How are you doing today?')"
      ],
      "metadata": {
        "colab": {
          "base_uri": "https://localhost:8080/"
        },
        "id": "ZOOxXMWHwFuO",
        "outputId": "4371d286-2ebd-405f-cc45-02ace5add49a"
      },
      "execution_count": 11,
      "outputs": [
        {
          "output_type": "stream",
          "name": "stderr",
          "text": [
            "/usr/local/lib/python3.11/dist-packages/transformers/models/marian/tokenization_marian.py:175: UserWarning: Recommended: pip install sacremoses.\n",
            "  warnings.warn(\"Recommended: pip install sacremoses.\")\n",
            "Device set to use cuda:0\n"
          ]
        },
        {
          "output_type": "execute_result",
          "data": {
            "text/plain": [
              "[{'translation_text': 'हैलो, आप आज कैसे कर रहे हैं?'}]"
            ]
          },
          "metadata": {},
          "execution_count": 11
        }
      ]
    },
    {
      "cell_type": "markdown",
      "source": [
        "### Tokenize Dataset\n",
        "\n",
        "Since most texts are of small length, we keep the `max_length` parameter to 128."
      ],
      "metadata": {
        "id": "w77NDvC_9XFV"
      }
    },
    {
      "cell_type": "code",
      "source": [
        "def translator_tokenize(examples):\n",
        "  return tokenizer(examples['src_lang'], text_target=examples['tgt_lang'],\n",
        "                   truncation=True, max_length=20)"
      ],
      "metadata": {
        "id": "Hu5Fx84s24ea"
      },
      "execution_count": 12,
      "outputs": []
    },
    {
      "cell_type": "code",
      "source": [
        "processsed_dataset_tokenized = processed_dataset.map(translator_tokenize, batched=True,\n",
        "                                                     remove_columns=processed_dataset['train'].column_names)"
      ],
      "metadata": {
        "colab": {
          "base_uri": "https://localhost:8080/",
          "height": 81,
          "referenced_widgets": [
            "43aaada448874a18a31370255fad04e0",
            "57293ce10e5d45559490eee967e44ced",
            "9dc74843294347869fe118efd0415d10",
            "30ea929b65824b548399735495d44b78",
            "2fdb6ce063be4c61b693639865edc2aa",
            "1f5d08ce29794cc7a19680980cf2d342",
            "7a99e287175941ca85d3797ea0b6aea9",
            "a7180fe4073a4b6d8d428192eacfed48",
            "afb1ea684119484a8d7b7f262bd48421",
            "ba328a9999bd45059d37ddbd2162210c",
            "f423d366222f44fc821c1987268798d8",
            "0b7a9348d26349b3bc332ddec8f93fb9",
            "48a5b617451949afa0e3f35cee63f21c",
            "5752fb70915d4fd8ad7f65a531953730",
            "95004ea8f8d54762a6fb1a27c5a67d21",
            "d1e00c83dfef4202a364ac479a1e7f37",
            "c080fb01b7a2403381fa07d123cb9e04",
            "4da8f05ff1dc45d8abac66788d8fbc1c",
            "50614721324843919a5e8e339e412f3c",
            "821efdbe848e4e2987216a7a9d2ea79b",
            "4f6ec768abc348a2bef45eefd4e84238",
            "d6e55097aae54bfea45e27dccaf8ea5c"
          ]
        },
        "id": "wJTerF_s27do",
        "outputId": "8287f21f-f71f-4b4a-a37f-1d2f59c95d62"
      },
      "execution_count": 13,
      "outputs": [
        {
          "output_type": "display_data",
          "data": {
            "text/plain": [
              "Map:   0%|          | 0/87504 [00:00<?, ? examples/s]"
            ],
            "application/vnd.jupyter.widget-view+json": {
              "version_major": 2,
              "version_minor": 0,
              "model_id": "43aaada448874a18a31370255fad04e0"
            }
          },
          "metadata": {}
        },
        {
          "output_type": "display_data",
          "data": {
            "text/plain": [
              "Map:   0%|          | 0/9723 [00:00<?, ? examples/s]"
            ],
            "application/vnd.jupyter.widget-view+json": {
              "version_major": 2,
              "version_minor": 0,
              "model_id": "0b7a9348d26349b3bc332ddec8f93fb9"
            }
          },
          "metadata": {}
        }
      ]
    },
    {
      "cell_type": "code",
      "source": [
        "processsed_dataset_tokenized"
      ],
      "metadata": {
        "colab": {
          "base_uri": "https://localhost:8080/"
        },
        "id": "A-QRmieU7Cka",
        "outputId": "e12e3c33-e335-4888-8231-9e6b796e72c7"
      },
      "execution_count": 14,
      "outputs": [
        {
          "output_type": "execute_result",
          "data": {
            "text/plain": [
              "DatasetDict({\n",
              "    train: Dataset({\n",
              "        features: ['input_ids', 'attention_mask', 'labels'],\n",
              "        num_rows: 87504\n",
              "    })\n",
              "    validation: Dataset({\n",
              "        features: ['input_ids', 'attention_mask', 'labels'],\n",
              "        num_rows: 9723\n",
              "    })\n",
              "})"
            ]
          },
          "metadata": {},
          "execution_count": 14
        }
      ]
    },
    {
      "cell_type": "markdown",
      "source": [
        "Data Collation:\n",
        "\n",
        "1. Padding tokens are replaced by -100 after tokenization as these indices are ignored in the calculation of cross entropy loss.\n",
        "2. This is handled by the `DataCollatorForSeq2Seq`. We need both the `inputs` and the `labels` to be padded with -100 till the `max_length` in the batch (dynamic padding). `DataCollatorWithPadding` only does this on the `inputs`.\n",
        "3. `DataCollatorForSeq2Seq` takes the tokenizer as well as the model.\n",
        "4. It adds a new field to the batch: `decoder_input_ids` which are shifted version of `labels` with a special token added at the beginning. This special token is also assigned to the padding tokens present in the input side. So all -100s in the tokenized input are mapped to this special token on the target language side.\n",
        "5. This special token differs from one model architecture to another, so the model object is needed inside the `DataCollatorForSeq2Seq`.\n",
        "6. `decoder_input_ids` are created from the target language input ids or `labels` by shifting them. These are only available during training, not during inference."
      ],
      "metadata": {
        "id": "CPjKgRpTwhic"
      }
    },
    {
      "cell_type": "code",
      "source": [
        "data_collator = DataCollatorForSeq2Seq(tokenizer=tokenizer, model=model)"
      ],
      "metadata": {
        "id": "0wcNjX2p_plW"
      },
      "execution_count": 15,
      "outputs": []
    },
    {
      "cell_type": "code",
      "source": [
        "samples = processsed_dataset_tokenized['train'].shuffle(42).select(range(5))\n",
        "print('Before collator: ', samples.features.keys()) # --> note that this is a slice of the dataset, so we have to use features to get keys\n",
        "# because dataset.features is a dictionary object\n",
        "batch = data_collator(samples) # --> this simply returns a dictionary so we can directly access the keys\n",
        "print('After collator: ', batch.keys())\n",
        "print('Labels: ', batch['labels'])\n",
        "print('Decoder IDs: ', batch['decoder_input_ids'])"
      ],
      "metadata": {
        "colab": {
          "base_uri": "https://localhost:8080/"
        },
        "id": "2FNcHsgO_yDv",
        "outputId": "cd15c32e-d478-4bb8-c2f3-f16dc39a77ab"
      },
      "execution_count": 16,
      "outputs": [
        {
          "output_type": "stream",
          "name": "stdout",
          "text": [
            "Before collator:  dict_keys(['input_ids', 'attention_mask', 'labels'])\n",
            "After collator:  dict_keys(['input_ids', 'attention_mask', 'labels', 'decoder_input_ids'])\n",
            "Labels:  tensor([[ 2972,     0,  -100,  -100,  -100,  -100,  -100,  -100],\n",
            "        [ 1174,  1622,  1498,    12,   587,   690,     0,  -100],\n",
            "        [13564,  1787,     0,  -100,  -100,  -100,  -100,  -100],\n",
            "        [ 7169,    24,  1103,  8153,   667,  6635, 17450,     0],\n",
            "        [ 8004, 11325,     0,  -100,  -100,  -100,  -100,  -100]])\n",
            "Decoder IDs:  tensor([[61949,  2972,     0, 61949, 61949, 61949, 61949, 61949],\n",
            "        [61949,  1174,  1622,  1498,    12,   587,   690,     0],\n",
            "        [61949, 13564,  1787,     0, 61949, 61949, 61949, 61949],\n",
            "        [61949,  7169,    24,  1103,  8153,   667,  6635, 17450],\n",
            "        [61949,  8004, 11325,     0, 61949, 61949, 61949, 61949]])\n"
          ]
        }
      ]
    },
    {
      "cell_type": "markdown",
      "source": [
        "### Compute Metrics for Translation\n",
        "\n",
        "BLEU score\n",
        "1. Evaluation in Seq2Seq uses BLEU score.\n",
        "2. It is a statistical score, and does not account for grammatical correctness or intelligence.\n",
        "3. This expects the inputs and outputs to be tokenizer, so it is heavliy dependent on the tokenizer and the model.\n",
        "4. To standardize this tokenization process for comparing the performance of different models, we use `SacreBLEU`.\n",
        "\n",
        "Input: predictions --> list of sentences; references --> list of list of sentences\n",
        "\n",
        "Because there can be multiple translations for the same source sentence."
      ],
      "metadata": {
        "id": "07bGKMIrELC0"
      }
    },
    {
      "cell_type": "code",
      "source": [
        "metrics = evaluate.load('sacrebleu')\n",
        "\n",
        "def compute_metrics(eval_preds):\n",
        "  preds, labels = eval_preds\n",
        "\n",
        "  # this check is important for different model types\n",
        "  if isinstance(preds, tuple):\n",
        "    preds = preds[0]\n",
        "\n",
        "  # we dont want padding tokens to mess up the scores\n",
        "  predictions = tokenizer.batch_decode(preds, skip_special_tokens=True)\n",
        "  labels = np.where(labels != -100, labels, tokenizer.pad_token_id)\n",
        "  references = tokenizer.batch_decode(labels, skip_special_tokens=True)\n",
        "\n",
        "  # post process: what does .strip() do?\n",
        "  predictions = [pred.strip() for pred in predictions] # --> list\n",
        "  references = [[ref.strip()] for ref in references] # --> list of lists\n",
        "\n",
        "  # compute the metrics\n",
        "  results = metrics.compute(predictions=predictions, references=references)\n",
        "  return {'bleu': results['score'], 'penalty': results['bp']}"
      ],
      "metadata": {
        "id": "3bqIl-yZESPE"
      },
      "execution_count": 17,
      "outputs": []
    },
    {
      "cell_type": "markdown",
      "source": [
        "### Finetune the Model\n",
        "\n",
        "Seq2SeqTrainer\n",
        "1. Seq2Seq tasks involve Autoregressive text generation unlike language understanding tasks such as classification.\n",
        "2. So, we need to be able to use the generate method of the models inside the evaluation.\n",
        "3. This is handled by the `Seq2SeqTrainer`. We use `predict_with_generate=True` in `Seq2SeqTrainingArguments`."
      ],
      "metadata": {
        "id": "vYsgsmjK-mEp"
      }
    },
    {
      "cell_type": "code",
      "source": [
        "notebook_login()"
      ],
      "metadata": {
        "id": "qmdMQ0I2whHl"
      },
      "execution_count": null,
      "outputs": []
    },
    {
      "cell_type": "code",
      "source": [
        "train_batch_size = 32\n",
        "eval_batch_size = 64\n",
        "logging_steps = len(processsed_dataset_tokenized['train'])//train_batch_size\n",
        "model_name = f'srvmishra832/KDE4-EN2HI-{model_ckpt}'\n",
        "training_arguments = Seq2SeqTrainingArguments(output_dir=model_name,\n",
        "                                              num_train_epochs=3, log_level='error', disable_tqdm=False,\n",
        "                                              per_device_train_batch_size=train_batch_size,\n",
        "                                              per_device_eval_batch_size=eval_batch_size,\n",
        "                                              logging_steps=logging_steps, save_strategy='epoch',\n",
        "                                              evaluation_strategy='no', learning_rate=2e-5,\n",
        "                                              weight_decay=0.01, predict_with_generate=True,\n",
        "                                              fp16=True, push_to_hub=True, save_total_limit=3)"
      ],
      "metadata": {
        "colab": {
          "base_uri": "https://localhost:8080/"
        },
        "id": "a4RHG5exF-K_",
        "outputId": "e066f073-e7f1-4280-a435-b01fa3e67060"
      },
      "execution_count": 19,
      "outputs": [
        {
          "output_type": "stream",
          "name": "stderr",
          "text": [
            "/usr/local/lib/python3.11/dist-packages/transformers/training_args.py:1611: FutureWarning: `evaluation_strategy` is deprecated and will be removed in version 4.46 of 🤗 Transformers. Use `eval_strategy` instead\n",
            "  warnings.warn(\n"
          ]
        }
      ]
    },
    {
      "cell_type": "code",
      "source": [
        "trainer = Seq2SeqTrainer(model=model, args=training_arguments,\n",
        "                         train_dataset=processsed_dataset_tokenized['train'],\n",
        "                         eval_dataset=processsed_dataset_tokenized['validation'],\n",
        "                         tokenizer=tokenizer, data_collator=data_collator,\n",
        "                         compute_metrics=compute_metrics)"
      ],
      "metadata": {
        "colab": {
          "base_uri": "https://localhost:8080/"
        },
        "id": "CTnPCtAwHRsb",
        "outputId": "9c71df12-ba5c-432c-f66c-8fbd5cf614fa"
      },
      "execution_count": 20,
      "outputs": [
        {
          "output_type": "stream",
          "name": "stderr",
          "text": [
            "<ipython-input-20-2d015b3d4f63>:1: FutureWarning: `tokenizer` is deprecated and will be removed in version 5.0.0 for `Seq2SeqTrainer.__init__`. Use `processing_class` instead.\n",
            "  trainer = Seq2SeqTrainer(model=model, args=training_arguments,\n"
          ]
        }
      ]
    },
    {
      "cell_type": "code",
      "source": [
        "trainer.evaluate(max_length=20)"
      ],
      "metadata": {
        "colab": {
          "base_uri": "https://localhost:8080/",
          "height": 317
        },
        "id": "w-IoTuf-HLv3",
        "outputId": "ef2f2281-042c-4f20-88b7-c3f720bca78f"
      },
      "execution_count": 21,
      "outputs": [
        {
          "output_type": "display_data",
          "data": {
            "text/plain": [
              "<IPython.core.display.HTML object>"
            ],
            "text/html": [
              "\n",
              "    <div>\n",
              "      \n",
              "      <progress value='152' max='152' style='width:300px; height:20px; vertical-align: middle;'></progress>\n",
              "      [152/152 01:10]\n",
              "    </div>\n",
              "    "
            ]
          },
          "metadata": {}
        },
        {
          "output_type": "stream",
          "name": "stderr",
          "text": [
            "\u001b[34m\u001b[1mwandb\u001b[0m: \u001b[33mWARNING\u001b[0m The `run_name` is currently set to the same value as `TrainingArguments.output_dir`. If this was not intended, please specify a different run name by setting the `TrainingArguments.run_name` parameter.\n",
            "\u001b[34m\u001b[1mwandb\u001b[0m: Using wandb-core as the SDK backend.  Please refer to https://wandb.me/wandb-core for more information.\n",
            "\u001b[34m\u001b[1mwandb\u001b[0m: Currently logged in as: \u001b[33msrvmishra832\u001b[0m (\u001b[33msrvmishra832-indian-institute-of-science-bangalore\u001b[0m) to \u001b[32mhttps://api.wandb.ai\u001b[0m. Use \u001b[1m`wandb login --relogin`\u001b[0m to force relogin\n"
          ]
        },
        {
          "output_type": "display_data",
          "data": {
            "text/plain": [
              "<IPython.core.display.HTML object>"
            ],
            "text/html": [
              "Tracking run with wandb version 0.19.8"
            ]
          },
          "metadata": {}
        },
        {
          "output_type": "display_data",
          "data": {
            "text/plain": [
              "<IPython.core.display.HTML object>"
            ],
            "text/html": [
              "Run data is saved locally in <code>/content/wandb/run-20250326_085238-va4i2kqn</code>"
            ]
          },
          "metadata": {}
        },
        {
          "output_type": "display_data",
          "data": {
            "text/plain": [
              "<IPython.core.display.HTML object>"
            ],
            "text/html": [
              "Syncing run <strong><a href='https://wandb.ai/srvmishra832-indian-institute-of-science-bangalore/huggingface/runs/va4i2kqn' target=\"_blank\">srvmishra832/KDE4-EN2HI-Helsinki-NLP/opus-mt-en-hi</a></strong> to <a href='https://wandb.ai/srvmishra832-indian-institute-of-science-bangalore/huggingface' target=\"_blank\">Weights & Biases</a> (<a href='https://wandb.me/developer-guide' target=\"_blank\">docs</a>)<br>"
            ]
          },
          "metadata": {}
        },
        {
          "output_type": "display_data",
          "data": {
            "text/plain": [
              "<IPython.core.display.HTML object>"
            ],
            "text/html": [
              " View project at <a href='https://wandb.ai/srvmishra832-indian-institute-of-science-bangalore/huggingface' target=\"_blank\">https://wandb.ai/srvmishra832-indian-institute-of-science-bangalore/huggingface</a>"
            ]
          },
          "metadata": {}
        },
        {
          "output_type": "display_data",
          "data": {
            "text/plain": [
              "<IPython.core.display.HTML object>"
            ],
            "text/html": [
              " View run at <a href='https://wandb.ai/srvmishra832-indian-institute-of-science-bangalore/huggingface/runs/va4i2kqn' target=\"_blank\">https://wandb.ai/srvmishra832-indian-institute-of-science-bangalore/huggingface/runs/va4i2kqn</a>"
            ]
          },
          "metadata": {}
        },
        {
          "output_type": "execute_result",
          "data": {
            "text/plain": [
              "{'eval_loss': 2.119575023651123,\n",
              " 'eval_model_preparation_time': 0.0049,\n",
              " 'eval_bleu': 59.886508891144366,\n",
              " 'eval_penalty': 0.9253908552810646,\n",
              " 'eval_runtime': 117.041,\n",
              " 'eval_samples_per_second': 83.073,\n",
              " 'eval_steps_per_second': 1.299}"
            ]
          },
          "metadata": {},
          "execution_count": 21
        }
      ]
    },
    {
      "cell_type": "code",
      "source": [
        "trainer.train()\n",
        "trainer.push_to_hub()"
      ],
      "metadata": {
        "colab": {
          "base_uri": "https://localhost:8080/",
          "height": 345
        },
        "id": "P0jX8C53Hugu",
        "outputId": "c7d3ac88-680c-49fb-d31a-6fa31113242d"
      },
      "execution_count": 22,
      "outputs": [
        {
          "output_type": "display_data",
          "data": {
            "text/plain": [
              "<IPython.core.display.HTML object>"
            ],
            "text/html": [
              "\n",
              "    <div>\n",
              "      \n",
              "      <progress value='8205' max='8205' style='width:300px; height:20px; vertical-align: middle;'></progress>\n",
              "      [8205/8205 13:56, Epoch 3/3]\n",
              "    </div>\n",
              "    <table border=\"1\" class=\"dataframe\">\n",
              "  <thead>\n",
              " <tr style=\"text-align: left;\">\n",
              "      <th>Step</th>\n",
              "      <th>Training Loss</th>\n",
              "    </tr>\n",
              "  </thead>\n",
              "  <tbody>\n",
              "    <tr>\n",
              "      <td>2734</td>\n",
              "      <td>1.331900</td>\n",
              "    </tr>\n",
              "    <tr>\n",
              "      <td>5468</td>\n",
              "      <td>1.056800</td>\n",
              "    </tr>\n",
              "    <tr>\n",
              "      <td>8202</td>\n",
              "      <td>0.956000</td>\n",
              "    </tr>\n",
              "  </tbody>\n",
              "</table><p>"
            ]
          },
          "metadata": {}
        },
        {
          "output_type": "stream",
          "name": "stderr",
          "text": [
            "/usr/local/lib/python3.11/dist-packages/transformers/modeling_utils.py:3353: UserWarning: Moving the following attributes in the config to the generation config: {'max_length': 512, 'num_beams': 4, 'bad_words_ids': [[61949]]}. You are seeing this warning because you've set generation parameters in the model config, as opposed to in the generation config.\n",
            "  warnings.warn(\n",
            "No files have been modified since last commit. Skipping to prevent empty commit.\n",
            "WARNING:huggingface_hub.hf_api:No files have been modified since last commit. Skipping to prevent empty commit.\n"
          ]
        },
        {
          "output_type": "execute_result",
          "data": {
            "text/plain": [
              "CommitInfo(commit_url='https://huggingface.co/srvmishra832/opus-mt-en-hi/commit/0aec3500ff3a25e2b1d8e3940b7c61a07edf64f5', commit_message='End of training', commit_description='', oid='0aec3500ff3a25e2b1d8e3940b7c61a07edf64f5', pr_url=None, repo_url=RepoUrl('https://huggingface.co/srvmishra832/opus-mt-en-hi', endpoint='https://huggingface.co', repo_type='model', repo_id='srvmishra832/opus-mt-en-hi'), pr_revision=None, pr_num=None)"
            ],
            "application/vnd.google.colaboratory.intrinsic+json": {
              "type": "string"
            }
          },
          "metadata": {},
          "execution_count": 22
        }
      ]
    },
    {
      "cell_type": "code",
      "source": [
        "trainer.evaluate(max_length=20)"
      ],
      "metadata": {
        "colab": {
          "base_uri": "https://localhost:8080/",
          "height": 176
        },
        "id": "cLmPgNGVHywm",
        "outputId": "2554326b-ae16-4b31-9f64-32aa387874d2"
      },
      "execution_count": 23,
      "outputs": [
        {
          "output_type": "display_data",
          "data": {
            "text/plain": [
              "<IPython.core.display.HTML object>"
            ],
            "text/html": [
              "\n",
              "    <div>\n",
              "      \n",
              "      <progress value='304' max='152' style='width:300px; height:20px; vertical-align: middle;'></progress>\n",
              "      [152/152 17:22]\n",
              "    </div>\n",
              "    "
            ]
          },
          "metadata": {}
        },
        {
          "output_type": "execute_result",
          "data": {
            "text/plain": [
              "{'eval_loss': 0.9642634391784668,\n",
              " 'eval_model_preparation_time': 0.0049,\n",
              " 'eval_bleu': 54.98374943358887,\n",
              " 'eval_penalty': 1.0,\n",
              " 'eval_runtime': 112.1949,\n",
              " 'eval_samples_per_second': 86.662,\n",
              " 'eval_steps_per_second': 1.355,\n",
              " 'epoch': 3.0}"
            ]
          },
          "metadata": {},
          "execution_count": 23
        }
      ]
    },
    {
      "cell_type": "markdown",
      "source": [
        "The BLEU score decreases after finetuning even when the testing loss has decreased:\n",
        "1. Maybe `max_length` needs to be shortened as sentences are too short.\n",
        "2. Is `batch_size` important?\n",
        "3. Overconfident translations? Repeating the same word over and over? Or too long sentences?\n",
        "\n",
        "I think `max_length` needs to be shortened.\n",
        "\n",
        "before training: 57~60 (does not vary much with max_length because model is not yet finetuned)\n",
        "\n",
        "max_length = 128: after training: 29.02\n",
        "\n",
        "max_length = 50: after training: 47.33\n",
        "\n",
        "max_length = 20: after training: 54.98 \\\\"
      ],
      "metadata": {
        "id": "TFR_-Fn9lrVk"
      }
    },
    {
      "cell_type": "markdown",
      "source": [
        "More tasks to explore:\n",
        "1. T5 model translation and multi lingual model translation\n",
        "3. multi lingual tokenizer settings for source and target languages\n",
        "4. repeat for english to german translation too\n",
        "\n",
        "Files: translation data loading utils and compute metrics utils depending on model and tokenizer in the above list."
      ],
      "metadata": {
        "id": "00HoXzh5Hr-K"
      }
    }
  ]
}
